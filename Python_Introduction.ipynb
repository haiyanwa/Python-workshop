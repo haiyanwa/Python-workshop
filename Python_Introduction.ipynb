{
 "cells": [
  {
   "cell_type": "markdown",
   "metadata": {},
   "source": [
    "# CCN Python Workshop"
   ]
  },
  {
   "cell_type": "markdown",
   "metadata": {},
   "source": [
    "This is a introduction of Python language using Jupyter Notebook. We'll learn some basics of Python version 3.0, especially the data structures in Python!"
   ]
  },
  {
   "cell_type": "markdown",
   "metadata": {},
   "source": [
    "### Get Jupyter Notebook"
   ]
  },
  {
   "cell_type": "markdown",
   "metadata": {},
   "source": [
    "#### Methord 1:\n",
    "Install to your laptop using Anaconda:\n",
    "\n",
    "https://jupyter.org/install\n",
    "\n",
    "Download Anaconda 3.7 version, install to your Macbook, then run \"jupyter notebook\"\n",
    "\n",
    "#### Methord 2:\n",
    "Run on Hoffman2\n",
    "\n",
    "https://www.hoffman2.idre.ucla.edu/access/jupyter-notebook/\n",
    "\n",
    "Download h2jupynb from\n",
    "\n",
    "https://gitlab.idre.ucla.edu/dauria/jupyter-notebook\n",
    "\n",
    "chmod u+x h2jupynb\n",
    "\n",
    "from your laptop, run the following command to use Python 3.7\n",
    "\n",
    "```bash\n",
    "./h2jupynb -u userid -v 3.7.0\n",
    "```\n",
    "Replace the userid with your Hoffman user ID"
   ]
  },
  {
   "cell_type": "markdown",
   "metadata": {},
   "source": [
    "### Variables"
   ]
  },
  {
   "cell_type": "code",
   "execution_count": 1,
   "metadata": {},
   "outputs": [
    {
     "name": "stdout",
     "output_type": "stream",
     "text": [
      "8\n"
     ]
    }
   ],
   "source": [
    "#comments\n",
    "#Variable name can use [a-z,A-Z,0-9,”_”] but not starts with a number\n",
    "#No need to pre-define variables but it's a good practice to initialize them\n",
    "a = 5\n",
    "b = 3\n",
    "c = a + b\n",
    "print(c)"
   ]
  },
  {
   "cell_type": "code",
   "execution_count": 3,
   "metadata": {},
   "outputs": [
    {
     "name": "stdout",
     "output_type": "stream",
     "text": [
      "1\n"
     ]
    }
   ],
   "source": [
    "#c = 0\n",
    "c += 1  ##same as c = c + 1 \n",
    "print(c)"
   ]
  },
  {
   "cell_type": "code",
   "execution_count": 4,
   "metadata": {},
   "outputs": [
    {
     "name": "stdout",
     "output_type": "stream",
     "text": [
      "give me a number 7\n",
      "<class 'str'>\n"
     ]
    },
    {
     "ename": "TypeError",
     "evalue": "must be str, not int",
     "output_type": "error",
     "traceback": [
      "\u001b[0;31m---------------------------------------------------------------------------\u001b[0m",
      "\u001b[0;31mTypeError\u001b[0m                                 Traceback (most recent call last)",
      "\u001b[0;32m<ipython-input-4-98bce5b84afe>\u001b[0m in \u001b[0;36m<module>\u001b[0;34m()\u001b[0m\n\u001b[1;32m      3\u001b[0m \u001b[0mprint\u001b[0m\u001b[0;34m(\u001b[0m\u001b[0mtype\u001b[0m\u001b[0;34m(\u001b[0m\u001b[0minput_num\u001b[0m\u001b[0;34m)\u001b[0m\u001b[0;34m)\u001b[0m\u001b[0;34m\u001b[0m\u001b[0m\n\u001b[1;32m      4\u001b[0m \u001b[0;34m\u001b[0m\u001b[0m\n\u001b[0;32m----> 5\u001b[0;31m \u001b[0minput_num\u001b[0m \u001b[0;34m+=\u001b[0m \u001b[0;36m1\u001b[0m\u001b[0;34m\u001b[0m\u001b[0m\n\u001b[0m",
      "\u001b[0;31mTypeError\u001b[0m: must be str, not int"
     ]
    }
   ],
   "source": [
    "input_num = input(\"give me a number \")\n",
    "\n",
    "print(type(input_num))\n",
    "\n",
    "input_num += 1"
   ]
  },
  {
   "cell_type": "code",
   "execution_count": 5,
   "metadata": {},
   "outputs": [
    {
     "name": "stdout",
     "output_type": "stream",
     "text": [
      "8\n"
     ]
    }
   ],
   "source": [
    "##use int() to convert to int type\n",
    "print(int(input_num) + 1)"
   ]
  },
  {
   "cell_type": "code",
   "execution_count": 6,
   "metadata": {},
   "outputs": [
    {
     "name": "stdout",
     "output_type": "stream",
     "text": [
      "3.5\n",
      "3.5\n",
      "3.5\n",
      "3.5\n",
      "3.0\n",
      "1\n",
      "1000\n"
     ]
    }
   ],
   "source": [
    "## Integer and floating-point division:\n",
    "print(7/2) # int/int returns int in python ver2.x!\n",
    "print(7/2.0)\n",
    "print(7.0/2)\n",
    "print(7/float(2))\n",
    "\n",
    "print(7.0//2) # floor (truncate)\n",
    "\n",
    "print(7%3)  # remainder\n",
    "\n",
    "print(10**3) # exponent\n"
   ]
  },
  {
   "cell_type": "markdown",
   "metadata": {},
   "source": [
    "### Strings"
   ]
  },
  {
   "cell_type": "code",
   "execution_count": 19,
   "metadata": {},
   "outputs": [
    {
     "name": "stdout",
     "output_type": "stream",
     "text": [
      "Neural Imaging\n",
      "14\n"
     ]
    }
   ],
   "source": [
    "empty_string = \"\"\n",
    "first_string = \"Neural Imaging\"\n",
    "print(first_string)\n",
    "print(len(first_string))"
   ]
  },
  {
   "cell_type": "code",
   "execution_count": 8,
   "metadata": {},
   "outputs": [
    {
     "name": "stdout",
     "output_type": "stream",
     "text": [
      "N\n",
      "e\n",
      "u\n"
     ]
    }
   ],
   "source": [
    "##use index to access individual characters \n",
    "print(first_string[0])\n",
    "print(first_string[1])\n",
    "print(first_string[2])"
   ]
  },
  {
   "cell_type": "code",
   "execution_count": 9,
   "metadata": {},
   "outputs": [
    {
     "name": "stdout",
     "output_type": "stream",
     "text": [
      "Neura\n",
      "g\n"
     ]
    }
   ],
   "source": [
    "##slicing\n",
    "print(first_string[0:5])  ##[5] is not included\n",
    "print(first_string[-1])   ##last character"
   ]
  },
  {
   "cell_type": "code",
   "execution_count": 12,
   "metadata": {},
   "outputs": [
    {
     "name": "stdout",
     "output_type": "stream",
     "text": [
      "single quotation\n",
      "single quotation works too!!\n"
     ]
    }
   ],
   "source": [
    "##Single quotation works too\n",
    "second_string = 'single quotation'\n",
    "print(second_string)\n",
    "#Concatenation\n",
    "new_string = second_string + ' works too!' + \"!\"\n",
    "print(new_string)"
   ]
  },
  {
   "cell_type": "code",
   "execution_count": 16,
   "metadata": {},
   "outputs": [
    {
     "name": "stdout",
     "output_type": "stream",
     "text": [
      "first name: jane\n",
      "middle name: M\n",
      "last name: BRUIN\n"
     ]
    }
   ],
   "source": [
    "##split a string\n",
    "third_string = \"Jane M Bruin\"\n",
    "firstname,middle,lastname = third_string.split(' ')\n",
    "print (\"first name:\", firstname.lower())\n",
    "print (\"middle name:\", middle)\n",
    "print (\"last name:\", lastname.upper())"
   ]
  },
  {
   "cell_type": "markdown",
   "metadata": {},
   "source": [
    "### List"
   ]
  },
  {
   "cell_type": "code",
   "execution_count": 20,
   "metadata": {},
   "outputs": [
    {
     "name": "stdout",
     "output_type": "stream",
     "text": [
      "[1, 2, 3, 5, 7, 11]\n",
      "length is:  6\n"
     ]
    }
   ],
   "source": [
    "### A list formed with numbers\n",
    "list_n = [1,2,3,5,7,11]\n",
    "print(list_n)\n",
    "print(\"length is: \", len(list_n))"
   ]
  },
  {
   "cell_type": "code",
   "execution_count": 21,
   "metadata": {},
   "outputs": [
    {
     "name": "stdout",
     "output_type": "stream",
     "text": [
      "['Python', 'C++', 'Java', 'Ruby']\n",
      "length:  4\n"
     ]
    }
   ],
   "source": [
    "### A list formed with Strings\n",
    "list_c = [\"Python\",\"C++\",\"Java\",\"Ruby\"]\n",
    "print(list_c)\n",
    "print(\"length: \", len(list_c))"
   ]
  },
  {
   "cell_type": "code",
   "execution_count": 24,
   "metadata": {},
   "outputs": [
    {
     "name": "stdout",
     "output_type": "stream",
     "text": [
      "<class 'list'>\n",
      "['sunny', 30, 70, 0.25]\n"
     ]
    }
   ],
   "source": [
    "### A mixed-typed list\n",
    "list_mix = [\"sunny\",30, 70,0.25]\n",
    "print(type(list_mix))\n",
    "print(list_mix)"
   ]
  },
  {
   "cell_type": "code",
   "execution_count": 25,
   "metadata": {},
   "outputs": [
    {
     "name": "stdout",
     "output_type": "stream",
     "text": [
      "[1]\n",
      "[1, 2]\n"
     ]
    }
   ],
   "source": [
    "###generate an empty list\n",
    "list_empty = []\n",
    "\n",
    "##add items to the list\n",
    "list_empty.append(1)\n",
    "print(list_empty)\n",
    "\n",
    "list_empty.append(2)\n",
    "print(list_empty)"
   ]
  },
  {
   "cell_type": "code",
   "execution_count": 26,
   "metadata": {},
   "outputs": [
    {
     "name": "stdout",
     "output_type": "stream",
     "text": [
      "[1, 2, 3, 4, 5, 6, 7, 8, 9]\n",
      "1\n",
      "8\n"
     ]
    }
   ],
   "source": [
    "list_num = [1,2,3,4,5,6,7,8,9]\n",
    "print(list_num) \n",
    "\n",
    "##access elements by indexes\n",
    "first_item = list_num[0]\n",
    "print(first_item)\n",
    "\n",
    "second_item = list_num[7]\n",
    "print(second_item)"
   ]
  },
  {
   "cell_type": "code",
   "execution_count": 27,
   "metadata": {},
   "outputs": [
    {
     "name": "stdout",
     "output_type": "stream",
     "text": [
      "[1, 1, 3, 4, 5, 6, 7, 5, 9]\n"
     ]
    }
   ],
   "source": [
    "##List is mutable\n",
    "##change second item\n",
    "list_num[1] = 1\n",
    "list_num[7] = 5\n",
    "print(list_num) "
   ]
  },
  {
   "cell_type": "code",
   "execution_count": 28,
   "metadata": {},
   "outputs": [
    {
     "name": "stdout",
     "output_type": "stream",
     "text": [
      "[1, 1, 3, 4, 6, 7, 5, 9]\n"
     ]
    }
   ],
   "source": [
    "##list.remove removes the first matching element\n",
    "list_num.remove(5)\n",
    "print(list_num)"
   ]
  },
  {
   "cell_type": "code",
   "execution_count": 29,
   "metadata": {},
   "outputs": [
    {
     "name": "stdout",
     "output_type": "stream",
     "text": [
      "[1, 1, 3, 5, 4, 6, 7, 5, 9]\n"
     ]
    }
   ],
   "source": [
    "##insert 5 at index 3\n",
    "list_num.insert(3,5)\n",
    "print(list_num)"
   ]
  },
  {
   "cell_type": "code",
   "execution_count": 30,
   "metadata": {},
   "outputs": [
    {
     "name": "stdout",
     "output_type": "stream",
     "text": [
      "9\n",
      "[1, 1, 3, 5, 4, 6, 7, 5]\n"
     ]
    }
   ],
   "source": [
    "##pop removes the last element from list\n",
    "last=list_num.pop()\n",
    "print(last)\n",
    "print(list_num)"
   ]
  },
  {
   "cell_type": "code",
   "execution_count": 31,
   "metadata": {},
   "outputs": [
    {
     "name": "stdout",
     "output_type": "stream",
     "text": [
      "5\n",
      "[1, 1, 3, 4, 6, 7, 5]\n"
     ]
    }
   ],
   "source": [
    "###When pop() takes a index, it delete the item with that index\n",
    "third = list_num.pop(3)\n",
    "print(third)\n",
    "print(list_num)"
   ]
  },
  {
   "cell_type": "code",
   "execution_count": 32,
   "metadata": {},
   "outputs": [
    {
     "name": "stdout",
     "output_type": "stream",
     "text": [
      "[1, 1, 6, 7, 5]\n"
     ]
    }
   ],
   "source": [
    "##del can be used to delete by index\n",
    "del list_num[2:4]\n",
    "print(list_num)"
   ]
  },
  {
   "cell_type": "code",
   "execution_count": null,
   "metadata": {},
   "outputs": [],
   "source": [
    "###slicing of the list (return a new list)\n",
    "alist[start:stop:step]\n",
    "alist[start:stop]  #items from start to stop-1 position\n",
    "alist[start:]      #items from start position to the end\n",
    "alist[:stop]       #items from beginning to stop-1 position\n",
    "alist[:]           #all items\n",
    "alist[-1]          #last item\n",
    "alist[-2]          #second last item\n",
    "alist[-2:]         #second last itme to the end"
   ]
  },
  {
   "cell_type": "code",
   "execution_count": 33,
   "metadata": {},
   "outputs": [
    {
     "data": {
      "text/plain": [
       "[0, 1, 2, 3, 4, 5, 6, 7, 8, 9, 10, 11, 12, 13, 14, 15, 16, 17, 18, 19]"
      ]
     },
     "execution_count": 33,
     "metadata": {},
     "output_type": "execute_result"
    }
   ],
   "source": [
    "##Generate a list by loop\n",
    "numbers = []\n",
    "for i in range (0,20):\n",
    "    numbers.append(i)\n",
    "numbers    "
   ]
  },
  {
   "cell_type": "code",
   "execution_count": 35,
   "metadata": {},
   "outputs": [
    {
     "name": "stdout",
     "output_type": "stream",
     "text": [
      "numbers[1:9] [1, 2, 3, 4, 5, 6, 7, 8]\n",
      "numbers[1:9:2] [1, 3, 5, 7]\n",
      "numbers[11:] [11, 12, 13, 14, 15, 16, 17, 18, 19]\n",
      "numbers[:5] [0, 1, 2, 3, 4]\n",
      "numbers[:] [0, 1, 2, 3, 4, 5, 6, 7, 8, 9, 10, 11, 12, 13, 14, 15, 16, 17, 18, 19]\n",
      "numbers[-1] 19\n",
      "numbers[-2] 18\n",
      "numbers[-2:] [18, 17, 16, 15, 14, 13, 12, 11, 10, 9, 8, 7, 6, 5, 4, 3, 2, 1, 0]\n"
     ]
    }
   ],
   "source": [
    "print(\"numbers[1:9]\", numbers[1:9])\n",
    "print(\"numbers[1:9:2]\",numbers[1:9:2])\n",
    "print(\"numbers[11:]\",numbers[11:])\n",
    "print(\"numbers[:5]\",numbers[:5])\n",
    "print(\"numbers[:]\", numbers[:])\n",
    "print(\"numbers[-1]\", numbers[-1])\n",
    "print(\"numbers[-2]\", numbers[-2])\n",
    "print(\"numbers[-2:]\", numbers[-2::-1])"
   ]
  },
  {
   "cell_type": "code",
   "execution_count": 36,
   "metadata": {},
   "outputs": [
    {
     "name": "stdout",
     "output_type": "stream",
     "text": [
      "[1, 2, 3, 4, 5, 6, 7]\n"
     ]
    }
   ],
   "source": [
    "###concatenating lists\n",
    "list_con1 = [1, 2, 3]\n",
    "list_con2 = [4, 5, 6, 7]\n",
    "list_con = list_con1 + list_con2\n",
    "print(list_con)"
   ]
  },
  {
   "cell_type": "markdown",
   "metadata": {},
   "source": [
    "### Tuple"
   ]
  },
  {
   "cell_type": "code",
   "execution_count": 37,
   "metadata": {},
   "outputs": [
    {
     "name": "stdout",
     "output_type": "stream",
     "text": [
      "(1, 2, 3, 4, 5)\n",
      "('January', 'February', 'March')\n",
      "(1, 'Jan', '12:45', 30)\n"
     ]
    }
   ],
   "source": [
    "##A tuple consists of a number of values separated by commas (between parentheses)\n",
    "tuple_num = (1,2,3,4,5)\n",
    "tuple_mon = (\"January\",\"February\",\"March\")\n",
    "tuple_mix = (1,\"Jan\",\"12:45\",30)\n",
    "print(tuple_num)\n",
    "print(tuple_mon)\n",
    "print(tuple_mix)"
   ]
  },
  {
   "cell_type": "code",
   "execution_count": 38,
   "metadata": {},
   "outputs": [
    {
     "ename": "TypeError",
     "evalue": "'tuple' object does not support item assignment",
     "output_type": "error",
     "traceback": [
      "\u001b[0;31m---------------------------------------------------------------------------\u001b[0m",
      "\u001b[0;31mTypeError\u001b[0m                                 Traceback (most recent call last)",
      "\u001b[0;32m<ipython-input-38-7374db699721>\u001b[0m in \u001b[0;36m<module>\u001b[0;34m()\u001b[0m\n\u001b[1;32m      1\u001b[0m \u001b[0;31m##tuple is immutable (when it does not contain mutable items)\u001b[0m\u001b[0;34m\u001b[0m\u001b[0;34m\u001b[0m\u001b[0m\n\u001b[0;32m----> 2\u001b[0;31m \u001b[0mtuple_num\u001b[0m\u001b[0;34m[\u001b[0m\u001b[0;36m1\u001b[0m\u001b[0;34m]\u001b[0m \u001b[0;34m=\u001b[0m \u001b[0;36m3\u001b[0m\u001b[0;34m\u001b[0m\u001b[0m\n\u001b[0m",
      "\u001b[0;31mTypeError\u001b[0m: 'tuple' object does not support item assignment"
     ]
    }
   ],
   "source": [
    "##tuple is immutable (when it does not contain mutable items)\n",
    "tuple_num[1] = 3"
   ]
  },
  {
   "cell_type": "markdown",
   "metadata": {},
   "source": [
    "### Dictionary"
   ]
  },
  {
   "cell_type": "code",
   "execution_count": 39,
   "metadata": {},
   "outputs": [
    {
     "name": "stdout",
     "output_type": "stream",
     "text": [
      "3\n",
      "{'January': 1, 'February': 2, 'March': 3, 'April': 4, 'May': 5, 'June': 6}\n"
     ]
    }
   ],
   "source": [
    "##Key-Value pairs separated by colon(keys are unique), between curly braces\n",
    "months = {'January': 1, 'February': 2, 'March': 3, 'April': 4, 'May':5}\n",
    "months['June'] = 6\n",
    "print(months['March'])\n",
    "\n",
    "print(months)"
   ]
  },
  {
   "cell_type": "code",
   "execution_count": 41,
   "metadata": {},
   "outputs": [
    {
     "name": "stdout",
     "output_type": "stream",
     "text": [
      "January\n",
      "February\n",
      "March\n",
      "April\n",
      "May\n",
      "June\n",
      "July\n",
      "July exists already\n",
      "{'January': 1, 'February': 2, 'March': 3, 'April': 4, 'May': 5, 'June': 6, 'July': 7}\n"
     ]
    }
   ],
   "source": [
    "##print all the keys\n",
    "for m in months:\n",
    "    print(m)\n",
    "\n",
    "## use \"in\" to check if a key exists\n",
    "if 'July' in months:\n",
    "    print(\"July exists already\")\n",
    "else:\n",
    "    months['July'] = 7\n",
    "    \n",
    "print(months)    \n"
   ]
  },
  {
   "cell_type": "code",
   "execution_count": 42,
   "metadata": {},
   "outputs": [
    {
     "name": "stdout",
     "output_type": "stream",
     "text": [
      "dict_keys(['January', 'February', 'March', 'April', 'May', 'June', 'July'])\n",
      "dict_values([1, 2, 3, 4, 5, 6, 7])\n",
      "dict_items([('January', 1), ('February', 2), ('March', 3), ('April', 4), ('May', 5), ('June', 6), ('July', 7)])\n"
     ]
    }
   ],
   "source": [
    "##Other ways to get keys, values or the key-value pair\n",
    "print(months.keys())\n",
    "print(months.values())\n",
    "print(months.items())"
   ]
  },
  {
   "cell_type": "code",
   "execution_count": 43,
   "metadata": {},
   "outputs": [
    {
     "name": "stdout",
     "output_type": "stream",
     "text": [
      "January  -  1\n",
      "February  -  2\n",
      "March  -  3\n",
      "April  -  4\n",
      "May  -  5\n",
      "June  -  6\n",
      "July  -  7\n"
     ]
    }
   ],
   "source": [
    "for key,val in months.items():\n",
    "    print(key, \" - \", val)"
   ]
  },
  {
   "cell_type": "code",
   "execution_count": null,
   "metadata": {},
   "outputs": [],
   "source": [
    "##more complicated dictionaries\n",
    "contacts = {'001':['Haiyan', 'haiyanwang@mednet.ucla.edu','Semel']}\n",
    "contacts ['002'] = ['Mary', 'mary@g.ucla.edu', 'Semel']\n",
    "contacts"
   ]
  },
  {
   "cell_type": "markdown",
   "metadata": {},
   "source": [
    "### Conditional Statements"
   ]
  },
  {
   "cell_type": "code",
   "execution_count": 44,
   "metadata": {},
   "outputs": [
    {
     "name": "stdout",
     "output_type": "stream",
     "text": [
      "n is larger\n",
      "CCN\n"
     ]
    }
   ],
   "source": [
    "##compare numbers\n",
    "n = 5\n",
    "m = 3\n",
    "if n > m:\n",
    "    print (\"n is larger\")\n",
    "elif n == m:\n",
    "    print (\"n is equal to m\")\n",
    "else:\n",
    "    print (\"n is smaller\")\n",
    "\n",
    "##compare strings\n",
    "name = \"CCN\"\n",
    "if name == \"CCN\":\n",
    "    print(\"CCN\")\n",
    "else:\n",
    "    print(\"Not CCN\")\n"
   ]
  },
  {
   "cell_type": "markdown",
   "metadata": {},
   "source": [
    "### Loop"
   ]
  },
  {
   "cell_type": "code",
   "execution_count": 45,
   "metadata": {},
   "outputs": [
    {
     "name": "stdout",
     "output_type": "stream",
     "text": [
      "0\n",
      "1\n",
      "2\n",
      "3\n",
      "4\n"
     ]
    }
   ],
   "source": [
    "##for loop\n",
    "for i in range(5):\n",
    "    print(i)"
   ]
  },
  {
   "cell_type": "code",
   "execution_count": 46,
   "metadata": {},
   "outputs": [
    {
     "name": "stdout",
     "output_type": "stream",
     "text": [
      "4\n",
      "5\n",
      "6\n",
      "7\n"
     ]
    }
   ],
   "source": [
    "for j in range(4,8):\n",
    "    print(j)"
   ]
  },
  {
   "cell_type": "code",
   "execution_count": 47,
   "metadata": {},
   "outputs": [
    {
     "name": "stdout",
     "output_type": "stream",
     "text": [
      "1\n",
      "3\n",
      "5\n",
      "7\n",
      "9\n"
     ]
    }
   ],
   "source": [
    "for k in range(1,10,2):\n",
    "    print(k)"
   ]
  },
  {
   "cell_type": "code",
   "execution_count": 48,
   "metadata": {},
   "outputs": [
    {
     "name": "stdout",
     "output_type": "stream",
     "text": [
      "func\n",
      "dwi\n",
      "anat\n",
      "fmap\n"
     ]
    }
   ],
   "source": [
    "##loop through a list\n",
    "folders = [\"func\", \"dwi\", \"anat\", \"fmap\"]\n",
    "for folder in folders:\n",
    "    print(folder)"
   ]
  },
  {
   "cell_type": "code",
   "execution_count": null,
   "metadata": {},
   "outputs": [],
   "source": [
    "##loop through a set\n",
    "for s in set1:\n",
    "    print(s)"
   ]
  },
  {
   "cell_type": "code",
   "execution_count": 49,
   "metadata": {},
   "outputs": [
    {
     "name": "stdout",
     "output_type": "stream",
     "text": [
      "January :  1\n",
      "February :  2\n",
      "March :  3\n",
      "April :  4\n",
      "May :  5\n",
      "June :  6\n",
      "July :  7\n"
     ]
    }
   ],
   "source": [
    "##loop through a dictionary\n",
    "for k,v in (months.items()):\n",
    "    print (k, \": \", v)"
   ]
  },
  {
   "cell_type": "code",
   "execution_count": 50,
   "metadata": {},
   "outputs": [
    {
     "name": "stdout",
     "output_type": "stream",
     "text": [
      "0 func\n",
      "1 dwi\n",
      "2 anat\n",
      "3 fmap\n"
     ]
    }
   ],
   "source": [
    "for index, item in enumerate(folders):\n",
    "    print(index, item)"
   ]
  },
  {
   "cell_type": "code",
   "execution_count": 51,
   "metadata": {},
   "outputs": [
    {
     "name": "stdout",
     "output_type": "stream",
     "text": [
      "0\n",
      "1\n",
      "2\n",
      "3\n",
      "4\n",
      "5\n",
      "6\n",
      "7\n",
      "8\n",
      "9\n"
     ]
    }
   ],
   "source": [
    "##While loop\n",
    "n = 0\n",
    "while(n < 10):\n",
    "    print(n)\n",
    "    n += 1"
   ]
  },
  {
   "cell_type": "code",
   "execution_count": 52,
   "metadata": {},
   "outputs": [
    {
     "name": "stdout",
     "output_type": "stream",
     "text": [
      "0\n",
      "1\n",
      "2\n",
      "3\n",
      "4\n"
     ]
    }
   ],
   "source": [
    "##break the loop\n",
    "n = 0\n",
    "while(True):\n",
    "    print(n)\n",
    "    if n==4:\n",
    "        break\n",
    "    n += 1"
   ]
  },
  {
   "cell_type": "code",
   "execution_count": 53,
   "metadata": {},
   "outputs": [
    {
     "name": "stdout",
     "output_type": "stream",
     "text": [
      "1\n",
      "3\n",
      "5\n",
      "7\n",
      "9\n"
     ]
    }
   ],
   "source": [
    "##continue: skip loops at certain condition\n",
    "for n in range(0,10):\n",
    "    if n%2==0:\n",
    "        continue\n",
    "    print(n)"
   ]
  },
  {
   "cell_type": "markdown",
   "metadata": {},
   "source": [
    "### Functions"
   ]
  },
  {
   "cell_type": "code",
   "execution_count": 54,
   "metadata": {},
   "outputs": [
    {
     "name": "stdout",
     "output_type": "stream",
     "text": [
      "Hello World!\n"
     ]
    }
   ],
   "source": [
    "##funciton without parameters\n",
    "def hello(): \n",
    "    print(\"Hello World!\")\n",
    "\n",
    "##call hello function\n",
    "hello()"
   ]
  },
  {
   "cell_type": "code",
   "execution_count": 55,
   "metadata": {},
   "outputs": [
    {
     "name": "stdout",
     "output_type": "stream",
     "text": [
      "25\n"
     ]
    }
   ],
   "source": [
    "##function with parameters\n",
    "def getPow(n):\n",
    "    return n ** 2\n",
    "\n",
    "##call double function\n",
    "print(getPow(5))"
   ]
  },
  {
   "cell_type": "code",
   "execution_count": 56,
   "metadata": {},
   "outputs": [
    {
     "name": "stdout",
     "output_type": "stream",
     "text": [
      "Print numbers without parameters:\n",
      "0\n",
      "1\n",
      "2\n",
      "Print numbers with parameters as (2,5):\n",
      "2\n",
      "3\n",
      "4\n"
     ]
    }
   ],
   "source": [
    "##parameters can have default values\n",
    "def printNumbers(start=0, end=3):\n",
    "    \n",
    "    if start >= end:\n",
    "        print(\"end need to be larger than start\")\n",
    "    else:\n",
    "        for i in range(start, end):\n",
    "            print(i)\n",
    "\n",
    "##call without parameters\n",
    "print(\"Print numbers without parameters:\")\n",
    "printNumbers()\n",
    "\n",
    "##call with parameters\n",
    "print(\"Print numbers with parameters as (2,5):\")\n",
    "printNumbers(2,5)"
   ]
  },
  {
   "cell_type": "code",
   "execution_count": null,
   "metadata": {},
   "outputs": [],
   "source": [
    "##count how many times a word shown using dictionary\n",
    "def count_words(s):\n",
    "    \n",
    "    word_dict = {}\n",
    "    for k in s.lower().split(' '):\n",
    "        if k in word_dict:\n",
    "            word_dict[k]+=1\n",
    "        else:\n",
    "            word_dict[k]=1\n",
    "    return word_dict\n",
    "\n",
    "print(count_words(\"oh what a day what a lovely day\"))"
   ]
  },
  {
   "cell_type": "markdown",
   "metadata": {},
   "source": [
    "### Numpy"
   ]
  },
  {
   "cell_type": "code",
   "execution_count": 58,
   "metadata": {},
   "outputs": [],
   "source": [
    "##import numpy library\n",
    "import numpy as np"
   ]
  },
  {
   "cell_type": "code",
   "execution_count": 59,
   "metadata": {},
   "outputs": [
    {
     "name": "stdout",
     "output_type": "stream",
     "text": [
      "[[0 0 0]\n",
      " [0 0 0]]\n",
      "(2, 3)\n"
     ]
    }
   ],
   "source": [
    "zero_arr = np.array([[0,0,0],\n",
    "                     [0,0,0]])\n",
    "print(zero_arr)\n",
    "print(zero_arr.shape)"
   ]
  },
  {
   "cell_type": "code",
   "execution_count": 60,
   "metadata": {},
   "outputs": [
    {
     "name": "stdout",
     "output_type": "stream",
     "text": [
      "[[0.]\n",
      " [0.]\n",
      " [0.]]\n",
      "[[1. 1.]\n",
      " [1. 1.]\n",
      " [1. 1.]]\n"
     ]
    }
   ],
   "source": [
    "zero_arr2 = np.zeros(shape=(3, 1))\n",
    "print(zero_arr2)\n",
    "ones_arr = np.ones(shape=(3, 2))\n",
    "print(ones_arr)"
   ]
  },
  {
   "cell_type": "code",
   "execution_count": 61,
   "metadata": {},
   "outputs": [
    {
     "name": "stdout",
     "output_type": "stream",
     "text": [
      "[[ 2.35741771 -0.6008627   0.80660342]\n",
      " [-1.06119617 -1.41934966 -0.40971739]\n",
      " [-1.28700607 -1.28326391 -0.3783107 ]]\n"
     ]
    }
   ],
   "source": [
    "random_arr = np.random.randn(3, 3)\n",
    "print(random_arr)"
   ]
  },
  {
   "cell_type": "code",
   "execution_count": 62,
   "metadata": {},
   "outputs": [
    {
     "name": "stdout",
     "output_type": "stream",
     "text": [
      "(3, 3)\n"
     ]
    }
   ],
   "source": [
    "##find the shape\n",
    "print(random_arr.shape)"
   ]
  },
  {
   "cell_type": "code",
   "execution_count": 63,
   "metadata": {},
   "outputs": [
    {
     "name": "stdout",
     "output_type": "stream",
     "text": [
      "-1.0611961718062264\n"
     ]
    }
   ],
   "source": [
    "##access by index\n",
    "print(random_arr[1,0])"
   ]
  },
  {
   "cell_type": "code",
   "execution_count": 64,
   "metadata": {},
   "outputs": [
    {
     "name": "stdout",
     "output_type": "stream",
     "text": [
      "third row [-1.28700607 -1.28326391 -0.3783107 ]\n",
      "second column [-0.6008627  -1.41934966 -1.28326391]\n",
      "[[ 2.35741771 -0.6008627 ]\n",
      " [-1.06119617 -1.41934966]]\n"
     ]
    }
   ],
   "source": [
    "##access by slicing\n",
    "##third row\n",
    "print(\"third row\", random_arr[2,:])\n",
    "##second column\n",
    "print(\"second column\",random_arr[:,1])\n",
    "print(random_arr[0:2,0:2])"
   ]
  },
  {
   "cell_type": "code",
   "execution_count": 65,
   "metadata": {},
   "outputs": [
    {
     "name": "stdout",
     "output_type": "stream",
     "text": [
      "10\n",
      "[3 4 3]\n",
      "6\n"
     ]
    }
   ],
   "source": [
    "##inner (dot) production of vectors\n",
    "arr_a = np.array([1,2,3])\n",
    "arr_b = np.array([3,2,1])\n",
    "inner_prod = np.dot(arr_a,arr_b)\n",
    "print(inner_prod)\n",
    "\n",
    "##element wise production\n",
    "element_prod = np.multiply(arr_a,arr_b)\n",
    "print(element_prod)\n",
    "\n",
    "##sum of vector\n",
    "npsum = np.sum([1,2,3])\n",
    "print(npsum)"
   ]
  }
 ],
 "metadata": {
  "kernelspec": {
   "display_name": "Python 3",
   "language": "python",
   "name": "python3"
  },
  "language_info": {
   "codemirror_mode": {
    "name": "ipython",
    "version": 3
   },
   "file_extension": ".py",
   "mimetype": "text/x-python",
   "name": "python",
   "nbconvert_exporter": "python",
   "pygments_lexer": "ipython3",
   "version": "3.6.5"
  }
 },
 "nbformat": 4,
 "nbformat_minor": 2
}
